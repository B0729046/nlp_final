{
 "cells": [
  {
   "cell_type": "markdown",
   "id": "6cb63ff3",
   "metadata": {
    "execution": {
     "iopub.execute_input": "2021-08-12T09:45:58.547822Z",
     "iopub.status.busy": "2021-08-12T09:45:58.547423Z",
     "iopub.status.idle": "2021-08-12T09:45:58.554441Z",
     "shell.execute_reply": "2021-08-12T09:45:58.553213Z",
     "shell.execute_reply.started": "2021-08-12T09:45:58.547789Z"
    },
    "papermill": {
     "duration": 0.025477,
     "end_time": "2021-08-18T07:01:13.154874",
     "exception": false,
     "start_time": "2021-08-18T07:01:13.129397",
     "status": "completed"
    },
    "tags": []
   },
   "source": [
    "## Disaster Tweets Classification with TFHub"
   ]
  },
  {
   "cell_type": "markdown",
   "id": "5a9e9c36",
   "metadata": {
    "papermill": {
     "duration": 0.023823,
     "end_time": "2021-08-18T07:01:13.202931",
     "exception": false,
     "start_time": "2021-08-18T07:01:13.179108",
     "status": "completed"
    },
    "tags": []
   },
   "source": [
    "## Table of Contents\n",
    "- Overview\n",
    "- Import Packages and Datasets\n",
    "- Data Wrangling\n",
    "- Data Preprocessing\n",
    "- Model Development\n",
    "- Model Evaluation\n",
    "- Submission\n",
    "- Conclusion"
   ]
  },
  {
   "cell_type": "markdown",
   "id": "e8202dfd",
   "metadata": {
    "execution": {
     "iopub.execute_input": "2021-07-30T17:25:03.396519Z",
     "iopub.status.busy": "2021-07-30T17:25:03.395939Z",
     "iopub.status.idle": "2021-07-30T17:25:03.400557Z",
     "shell.execute_reply": "2021-07-30T17:25:03.39968Z",
     "shell.execute_reply.started": "2021-07-30T17:25:03.396471Z"
    },
    "papermill": {
     "duration": 0.023957,
     "end_time": "2021-08-18T07:01:13.251145",
     "exception": false,
     "start_time": "2021-08-18T07:01:13.227188",
     "status": "completed"
    },
    "tags": []
   },
   "source": [
    "# Overview\n",
    "In this notebook I will build a Text Classifier to read tweets dataset to build predict whether it's talking about disaster."
   ]
  },
  {
   "cell_type": "markdown",
   "id": "1ff8fc70",
   "metadata": {
    "papermill": {
     "duration": 0.024099,
     "end_time": "2021-08-18T07:01:13.299344",
     "exception": false,
     "start_time": "2021-08-18T07:01:13.275245",
     "status": "completed"
    },
    "tags": []
   },
   "source": [
    "## Import Packages and Datasets "
   ]
  },
  {
   "cell_type": "code",
   "execution_count": 1,
   "id": "fc626959",
   "metadata": {
    "execution": {
     "iopub.execute_input": "2021-08-18T07:01:13.359377Z",
     "iopub.status.busy": "2021-08-18T07:01:13.358859Z",
     "iopub.status.idle": "2021-08-18T07:01:18.474406Z",
     "shell.execute_reply": "2021-08-18T07:01:18.473784Z",
     "shell.execute_reply.started": "2021-08-18T06:39:59.694975Z"
    },
    "papermill": {
     "duration": 5.151185,
     "end_time": "2021-08-18T07:01:18.474550",
     "exception": false,
     "start_time": "2021-08-18T07:01:13.323365",
     "status": "completed"
    },
    "tags": []
   },
   "outputs": [],
   "source": [
    "import pandas as pd\n",
    "import numpy as np\n",
    "import tensorflow as tf\n",
    "import seaborn as sns\n",
    "import time\n",
    "from sklearn.metrics import confusion_matrix, classification_report\n",
    "import tensorflow_hub as hub"
   ]
  },
  {
   "cell_type": "code",
   "execution_count": 2,
   "id": "02b438d0",
   "metadata": {
    "execution": {
     "iopub.execute_input": "2021-08-18T07:01:18.530030Z",
     "iopub.status.busy": "2021-08-18T07:01:18.529507Z",
     "iopub.status.idle": "2021-08-18T07:01:18.611880Z",
     "shell.execute_reply": "2021-08-18T07:01:18.612292Z",
     "shell.execute_reply.started": "2021-08-18T06:40:12.087415Z"
    },
    "papermill": {
     "duration": 0.111665,
     "end_time": "2021-08-18T07:01:18.612450",
     "exception": false,
     "start_time": "2021-08-18T07:01:18.500785",
     "status": "completed"
    },
    "tags": []
   },
   "outputs": [
    {
     "data": {
      "text/html": [
       "<div>\n",
       "<style scoped>\n",
       "    .dataframe tbody tr th:only-of-type {\n",
       "        vertical-align: middle;\n",
       "    }\n",
       "\n",
       "    .dataframe tbody tr th {\n",
       "        vertical-align: top;\n",
       "    }\n",
       "\n",
       "    .dataframe thead th {\n",
       "        text-align: right;\n",
       "    }\n",
       "</style>\n",
       "<table border=\"1\" class=\"dataframe\">\n",
       "  <thead>\n",
       "    <tr style=\"text-align: right;\">\n",
       "      <th></th>\n",
       "      <th>id</th>\n",
       "      <th>keyword</th>\n",
       "      <th>location</th>\n",
       "      <th>text</th>\n",
       "      <th>target</th>\n",
       "    </tr>\n",
       "  </thead>\n",
       "  <tbody>\n",
       "    <tr>\n",
       "      <th>0</th>\n",
       "      <td>1</td>\n",
       "      <td>NaN</td>\n",
       "      <td>NaN</td>\n",
       "      <td>Our Deeds are the Reason of this #earthquake M...</td>\n",
       "      <td>1</td>\n",
       "    </tr>\n",
       "    <tr>\n",
       "      <th>1</th>\n",
       "      <td>4</td>\n",
       "      <td>NaN</td>\n",
       "      <td>NaN</td>\n",
       "      <td>Forest fire near La Ronge Sask. Canada</td>\n",
       "      <td>1</td>\n",
       "    </tr>\n",
       "    <tr>\n",
       "      <th>2</th>\n",
       "      <td>5</td>\n",
       "      <td>NaN</td>\n",
       "      <td>NaN</td>\n",
       "      <td>All residents asked to 'shelter in place' are ...</td>\n",
       "      <td>1</td>\n",
       "    </tr>\n",
       "    <tr>\n",
       "      <th>3</th>\n",
       "      <td>6</td>\n",
       "      <td>NaN</td>\n",
       "      <td>NaN</td>\n",
       "      <td>13,000 people receive #wildfires evacuation or...</td>\n",
       "      <td>1</td>\n",
       "    </tr>\n",
       "    <tr>\n",
       "      <th>4</th>\n",
       "      <td>7</td>\n",
       "      <td>NaN</td>\n",
       "      <td>NaN</td>\n",
       "      <td>Just got sent this photo from Ruby #Alaska as ...</td>\n",
       "      <td>1</td>\n",
       "    </tr>\n",
       "  </tbody>\n",
       "</table>\n",
       "</div>"
      ],
      "text/plain": [
       "   id keyword location                                               text  \\\n",
       "0   1     NaN      NaN  Our Deeds are the Reason of this #earthquake M...   \n",
       "1   4     NaN      NaN             Forest fire near La Ronge Sask. Canada   \n",
       "2   5     NaN      NaN  All residents asked to 'shelter in place' are ...   \n",
       "3   6     NaN      NaN  13,000 people receive #wildfires evacuation or...   \n",
       "4   7     NaN      NaN  Just got sent this photo from Ruby #Alaska as ...   \n",
       "\n",
       "   target  \n",
       "0       1  \n",
       "1       1  \n",
       "2       1  \n",
       "3       1  \n",
       "4       1  "
      ]
     },
     "execution_count": 2,
     "metadata": {},
     "output_type": "execute_result"
    }
   ],
   "source": [
    "train = pd.read_csv(\"/kaggle/input/nlp-getting-started/train.csv\")\n",
    "train.head()"
   ]
  },
  {
   "cell_type": "code",
   "execution_count": 3,
   "id": "0bc74506",
   "metadata": {
    "execution": {
     "iopub.execute_input": "2021-08-18T07:01:18.668556Z",
     "iopub.status.busy": "2021-08-18T07:01:18.667865Z",
     "iopub.status.idle": "2021-08-18T07:01:18.672626Z",
     "shell.execute_reply": "2021-08-18T07:01:18.672204Z",
     "shell.execute_reply.started": "2021-08-18T06:40:14.323148Z"
    },
    "papermill": {
     "duration": 0.034346,
     "end_time": "2021-08-18T07:01:18.672732",
     "exception": false,
     "start_time": "2021-08-18T07:01:18.638386",
     "status": "completed"
    },
    "tags": []
   },
   "outputs": [
    {
     "data": {
      "text/plain": [
       "(7613, 5)"
      ]
     },
     "execution_count": 3,
     "metadata": {},
     "output_type": "execute_result"
    }
   ],
   "source": [
    "train.shape"
   ]
  },
  {
   "cell_type": "code",
   "execution_count": 4,
   "id": "a664fc3b",
   "metadata": {
    "execution": {
     "iopub.execute_input": "2021-08-18T07:01:18.727894Z",
     "iopub.status.busy": "2021-08-18T07:01:18.727300Z",
     "iopub.status.idle": "2021-08-18T07:01:18.758282Z",
     "shell.execute_reply": "2021-08-18T07:01:18.757433Z",
     "shell.execute_reply.started": "2021-08-18T06:40:15.997134Z"
    },
    "papermill": {
     "duration": 0.060116,
     "end_time": "2021-08-18T07:01:18.758411",
     "exception": false,
     "start_time": "2021-08-18T07:01:18.698295",
     "status": "completed"
    },
    "tags": []
   },
   "outputs": [
    {
     "data": {
      "text/html": [
       "<div>\n",
       "<style scoped>\n",
       "    .dataframe tbody tr th:only-of-type {\n",
       "        vertical-align: middle;\n",
       "    }\n",
       "\n",
       "    .dataframe tbody tr th {\n",
       "        vertical-align: top;\n",
       "    }\n",
       "\n",
       "    .dataframe thead th {\n",
       "        text-align: right;\n",
       "    }\n",
       "</style>\n",
       "<table border=\"1\" class=\"dataframe\">\n",
       "  <thead>\n",
       "    <tr style=\"text-align: right;\">\n",
       "      <th></th>\n",
       "      <th>id</th>\n",
       "      <th>keyword</th>\n",
       "      <th>location</th>\n",
       "      <th>text</th>\n",
       "    </tr>\n",
       "  </thead>\n",
       "  <tbody>\n",
       "    <tr>\n",
       "      <th>0</th>\n",
       "      <td>0</td>\n",
       "      <td>NaN</td>\n",
       "      <td>NaN</td>\n",
       "      <td>Just happened a terrible car crash</td>\n",
       "    </tr>\n",
       "    <tr>\n",
       "      <th>1</th>\n",
       "      <td>2</td>\n",
       "      <td>NaN</td>\n",
       "      <td>NaN</td>\n",
       "      <td>Heard about #earthquake is different cities, s...</td>\n",
       "    </tr>\n",
       "    <tr>\n",
       "      <th>2</th>\n",
       "      <td>3</td>\n",
       "      <td>NaN</td>\n",
       "      <td>NaN</td>\n",
       "      <td>there is a forest fire at spot pond, geese are...</td>\n",
       "    </tr>\n",
       "    <tr>\n",
       "      <th>3</th>\n",
       "      <td>9</td>\n",
       "      <td>NaN</td>\n",
       "      <td>NaN</td>\n",
       "      <td>Apocalypse lighting. #Spokane #wildfires</td>\n",
       "    </tr>\n",
       "    <tr>\n",
       "      <th>4</th>\n",
       "      <td>11</td>\n",
       "      <td>NaN</td>\n",
       "      <td>NaN</td>\n",
       "      <td>Typhoon Soudelor kills 28 in China and Taiwan</td>\n",
       "    </tr>\n",
       "  </tbody>\n",
       "</table>\n",
       "</div>"
      ],
      "text/plain": [
       "   id keyword location                                               text\n",
       "0   0     NaN      NaN                 Just happened a terrible car crash\n",
       "1   2     NaN      NaN  Heard about #earthquake is different cities, s...\n",
       "2   3     NaN      NaN  there is a forest fire at spot pond, geese are...\n",
       "3   9     NaN      NaN           Apocalypse lighting. #Spokane #wildfires\n",
       "4  11     NaN      NaN      Typhoon Soudelor kills 28 in China and Taiwan"
      ]
     },
     "execution_count": 4,
     "metadata": {},
     "output_type": "execute_result"
    }
   ],
   "source": [
    "test = pd.read_csv(\"/kaggle/input/nlp-getting-started/test.csv\")\n",
    "test.head()"
   ]
  },
  {
   "cell_type": "code",
   "execution_count": 5,
   "id": "4cb0675a",
   "metadata": {
    "execution": {
     "iopub.execute_input": "2021-08-18T07:01:18.822077Z",
     "iopub.status.busy": "2021-08-18T07:01:18.821315Z",
     "iopub.status.idle": "2021-08-18T07:01:18.828672Z",
     "shell.execute_reply": "2021-08-18T07:01:18.828270Z",
     "shell.execute_reply.started": "2021-08-18T06:40:18.740100Z"
    },
    "papermill": {
     "duration": 0.043432,
     "end_time": "2021-08-18T07:01:18.828784",
     "exception": false,
     "start_time": "2021-08-18T07:01:18.785352",
     "status": "completed"
    },
    "tags": []
   },
   "outputs": [
    {
     "data": {
      "text/plain": [
       "USA                          104\n",
       "New York                      71\n",
       "United States                 50\n",
       "London                        45\n",
       "Canada                        29\n",
       "                            ... \n",
       "The Epicenter, and Beyond      1\n",
       "Chester                        1\n",
       "Aix-en-Provence/Utrecht        1\n",
       "Utica NY                       1\n",
       "BrasÌ_lia                      1\n",
       "Name: location, Length: 3341, dtype: int64"
      ]
     },
     "execution_count": 5,
     "metadata": {},
     "output_type": "execute_result"
    }
   ],
   "source": [
    "train.location.value_counts()"
   ]
  },
  {
   "cell_type": "markdown",
   "id": "2fcafe13",
   "metadata": {
    "papermill": {
     "duration": 0.026269,
     "end_time": "2021-08-18T07:01:18.881469",
     "exception": false,
     "start_time": "2021-08-18T07:01:18.855200",
     "status": "completed"
    },
    "tags": []
   },
   "source": [
    "## Data Wrangling\n",
    "Let's see null values for each column."
   ]
  },
  {
   "cell_type": "code",
   "execution_count": 6,
   "id": "6cdcf7e2",
   "metadata": {
    "execution": {
     "iopub.execute_input": "2021-08-18T07:01:18.944656Z",
     "iopub.status.busy": "2021-08-18T07:01:18.941336Z",
     "iopub.status.idle": "2021-08-18T07:01:18.947859Z",
     "shell.execute_reply": "2021-08-18T07:01:18.947452Z",
     "shell.execute_reply.started": "2021-08-18T06:40:21.317089Z"
    },
    "papermill": {
     "duration": 0.040019,
     "end_time": "2021-08-18T07:01:18.947971",
     "exception": false,
     "start_time": "2021-08-18T07:01:18.907952",
     "status": "completed"
    },
    "tags": []
   },
   "outputs": [
    {
     "data": {
      "text/plain": [
       "id             0\n",
       "keyword       61\n",
       "location    2533\n",
       "text           0\n",
       "target         0\n",
       "dtype: int64"
      ]
     },
     "execution_count": 6,
     "metadata": {},
     "output_type": "execute_result"
    }
   ],
   "source": [
    "train.isnull().sum()"
   ]
  },
  {
   "cell_type": "code",
   "execution_count": 7,
   "id": "441a1a3f",
   "metadata": {
    "execution": {
     "iopub.execute_input": "2021-08-18T07:01:19.010468Z",
     "iopub.status.busy": "2021-08-18T07:01:19.009780Z",
     "iopub.status.idle": "2021-08-18T07:01:19.013120Z",
     "shell.execute_reply": "2021-08-18T07:01:19.013549Z",
     "shell.execute_reply.started": "2021-08-18T06:40:23.699603Z"
    },
    "papermill": {
     "duration": 0.039031,
     "end_time": "2021-08-18T07:01:19.013678",
     "exception": false,
     "start_time": "2021-08-18T07:01:18.974647",
     "status": "completed"
    },
    "tags": []
   },
   "outputs": [
    {
     "data": {
      "text/plain": [
       "id             0\n",
       "keyword       26\n",
       "location    1105\n",
       "text           0\n",
       "dtype: int64"
      ]
     },
     "execution_count": 7,
     "metadata": {},
     "output_type": "execute_result"
    }
   ],
   "source": [
    "test.isnull().sum()"
   ]
  },
  {
   "cell_type": "code",
   "execution_count": 8,
   "id": "0f33989c",
   "metadata": {
    "execution": {
     "iopub.execute_input": "2021-08-18T07:01:19.078344Z",
     "iopub.status.busy": "2021-08-18T07:01:19.069928Z",
     "iopub.status.idle": "2021-08-18T07:01:19.080826Z",
     "shell.execute_reply": "2021-08-18T07:01:19.080436Z",
     "shell.execute_reply.started": "2021-08-18T06:40:25.841579Z"
    },
    "papermill": {
     "duration": 0.039778,
     "end_time": "2021-08-18T07:01:19.081024",
     "exception": false,
     "start_time": "2021-08-18T07:01:19.041246",
     "status": "completed"
    },
    "tags": []
   },
   "outputs": [],
   "source": [
    "train[\"keyword\"].replace(np.NAN, \"\", inplace=True)\n",
    "train[\"location\"].replace(np.NAN, \"\", inplace=True)\n",
    "test[\"keyword\"].replace(np.NAN, \"\", inplace=True)\n",
    "test[\"location\"].replace(np.NAN, \"\", inplace=True)"
   ]
  },
  {
   "cell_type": "code",
   "execution_count": 9,
   "id": "f394377f",
   "metadata": {
    "execution": {
     "iopub.execute_input": "2021-08-18T07:01:19.143410Z",
     "iopub.status.busy": "2021-08-18T07:01:19.142525Z",
     "iopub.status.idle": "2021-08-18T07:01:19.146590Z",
     "shell.execute_reply": "2021-08-18T07:01:19.146187Z",
     "shell.execute_reply.started": "2021-08-18T06:40:28.506126Z"
    },
    "papermill": {
     "duration": 0.038454,
     "end_time": "2021-08-18T07:01:19.146694",
     "exception": false,
     "start_time": "2021-08-18T07:01:19.108240",
     "status": "completed"
    },
    "tags": []
   },
   "outputs": [
    {
     "data": {
      "text/plain": [
       "id          0\n",
       "keyword     0\n",
       "location    0\n",
       "text        0\n",
       "target      0\n",
       "dtype: int64"
      ]
     },
     "execution_count": 9,
     "metadata": {},
     "output_type": "execute_result"
    }
   ],
   "source": [
    "train.isnull().sum()"
   ]
  },
  {
   "cell_type": "code",
   "execution_count": 10,
   "id": "889c89c0",
   "metadata": {
    "execution": {
     "iopub.execute_input": "2021-08-18T07:01:19.210550Z",
     "iopub.status.busy": "2021-08-18T07:01:19.209926Z",
     "iopub.status.idle": "2021-08-18T07:01:19.213080Z",
     "shell.execute_reply": "2021-08-18T07:01:19.213515Z",
     "shell.execute_reply.started": "2021-08-18T06:40:30.867734Z"
    },
    "papermill": {
     "duration": 0.039024,
     "end_time": "2021-08-18T07:01:19.213634",
     "exception": false,
     "start_time": "2021-08-18T07:01:19.174610",
     "status": "completed"
    },
    "tags": []
   },
   "outputs": [
    {
     "data": {
      "text/plain": [
       "id          0\n",
       "keyword     0\n",
       "location    0\n",
       "text        0\n",
       "dtype: int64"
      ]
     },
     "execution_count": 10,
     "metadata": {},
     "output_type": "execute_result"
    }
   ],
   "source": [
    "test.isnull().sum()"
   ]
  },
  {
   "cell_type": "markdown",
   "id": "4376578c",
   "metadata": {
    "execution": {
     "iopub.execute_input": "2021-07-30T17:38:49.027434Z",
     "iopub.status.busy": "2021-07-30T17:38:49.025447Z",
     "iopub.status.idle": "2021-07-30T17:38:49.031233Z",
     "shell.execute_reply": "2021-07-30T17:38:49.029903Z",
     "shell.execute_reply.started": "2021-07-30T17:38:49.027392Z"
    },
    "papermill": {
     "duration": 0.027073,
     "end_time": "2021-08-18T07:01:19.268657",
     "exception": false,
     "start_time": "2021-08-18T07:01:19.241584",
     "status": "completed"
    },
    "tags": []
   },
   "source": [
    "## Data Preprocessing"
   ]
  },
  {
   "cell_type": "code",
   "execution_count": 11,
   "id": "f52c7cd6",
   "metadata": {
    "execution": {
     "iopub.execute_input": "2021-08-18T07:01:19.362071Z",
     "iopub.status.busy": "2021-08-18T07:01:19.346716Z",
     "iopub.status.idle": "2021-08-18T07:01:20.765103Z",
     "shell.execute_reply": "2021-08-18T07:01:20.764189Z",
     "shell.execute_reply.started": "2021-08-18T06:41:09.878489Z"
    },
    "papermill": {
     "duration": 1.468865,
     "end_time": "2021-08-18T07:01:20.765271",
     "exception": false,
     "start_time": "2021-08-18T07:01:19.296406",
     "status": "completed"
    },
    "tags": []
   },
   "outputs": [],
   "source": [
    "contents = []\n",
    "for data in [train, test]:\n",
    "    for i in range(data.shape[0]):\n",
    "        item = data.iloc[i]\n",
    "        sentence = item[\"keyword\"] + \" \" + item[\"text\"] + \" \" + item[\"location\"]\n",
    "        sentence = sentence.strip().lower()\n",
    "        contents.append(sentence)"
   ]
  },
  {
   "cell_type": "code",
   "execution_count": 12,
   "id": "00b3ca38",
   "metadata": {
    "execution": {
     "iopub.execute_input": "2021-08-18T07:01:20.824716Z",
     "iopub.status.busy": "2021-08-18T07:01:20.823250Z",
     "iopub.status.idle": "2021-08-18T07:01:20.827197Z",
     "shell.execute_reply": "2021-08-18T07:01:20.826584Z",
     "shell.execute_reply.started": "2021-08-18T06:41:13.783020Z"
    },
    "papermill": {
     "duration": 0.035247,
     "end_time": "2021-08-18T07:01:20.827347",
     "exception": false,
     "start_time": "2021-08-18T07:01:20.792100",
     "status": "completed"
    },
    "tags": []
   },
   "outputs": [
    {
     "name": "stdout",
     "output_type": "stream",
     "text": [
      "7613 3263\n"
     ]
    }
   ],
   "source": [
    "print(len(train), len(test))"
   ]
  },
  {
   "cell_type": "code",
   "execution_count": 13,
   "id": "4bb13f68",
   "metadata": {
    "execution": {
     "iopub.execute_input": "2021-08-18T07:01:20.890012Z",
     "iopub.status.busy": "2021-08-18T07:01:20.889484Z",
     "iopub.status.idle": "2021-08-18T07:01:20.893630Z",
     "shell.execute_reply": "2021-08-18T07:01:20.894151Z",
     "shell.execute_reply.started": "2021-08-18T06:41:16.778223Z"
    },
    "papermill": {
     "duration": 0.038971,
     "end_time": "2021-08-18T07:01:20.894332",
     "exception": false,
     "start_time": "2021-08-18T07:01:20.855361",
     "status": "completed"
    },
    "tags": []
   },
   "outputs": [
    {
     "name": "stdout",
     "output_type": "stream",
     "text": [
      "7613 3263 (7613,)\n"
     ]
    }
   ],
   "source": [
    "x_train = contents[:len(train)]\n",
    "x_test = contents[len(train):]\n",
    "y_train = train[\"target\"]\n",
    "print(len(x_train), len(x_test), y_train.shape)"
   ]
  },
  {
   "cell_type": "markdown",
   "id": "73a3acaf",
   "metadata": {
    "papermill": {
     "duration": 0.026858,
     "end_time": "2021-08-18T07:01:20.948804",
     "exception": false,
     "start_time": "2021-08-18T07:01:20.921946",
     "status": "completed"
    },
    "tags": []
   },
   "source": [
    "## Train Validation Split"
   ]
  },
  {
   "cell_type": "code",
   "execution_count": 14,
   "id": "bde1ef78",
   "metadata": {
    "execution": {
     "iopub.execute_input": "2021-08-18T07:01:21.006906Z",
     "iopub.status.busy": "2021-08-18T07:01:21.006269Z",
     "iopub.status.idle": "2021-08-18T07:01:21.024795Z",
     "shell.execute_reply": "2021-08-18T07:01:21.024386Z",
     "shell.execute_reply.started": "2021-08-18T06:41:19.820565Z"
    },
    "papermill": {
     "duration": 0.048997,
     "end_time": "2021-08-18T07:01:21.024903",
     "exception": false,
     "start_time": "2021-08-18T07:01:20.975906",
     "status": "completed"
    },
    "tags": []
   },
   "outputs": [],
   "source": [
    "from sklearn.model_selection import train_test_split\n",
    "x_train, x_val, y_train, y_val = train_test_split(x_train, y_train, test_size=0.2, random_state=44)"
   ]
  },
  {
   "cell_type": "code",
   "execution_count": 15,
   "id": "363f3aea",
   "metadata": {
    "execution": {
     "iopub.execute_input": "2021-08-18T07:01:21.083796Z",
     "iopub.status.busy": "2021-08-18T07:01:21.083133Z",
     "iopub.status.idle": "2021-08-18T07:01:21.086421Z",
     "shell.execute_reply": "2021-08-18T07:01:21.087000Z",
     "shell.execute_reply.started": "2021-08-18T06:41:22.140078Z"
    },
    "papermill": {
     "duration": 0.034957,
     "end_time": "2021-08-18T07:01:21.087173",
     "exception": false,
     "start_time": "2021-08-18T07:01:21.052216",
     "status": "completed"
    },
    "tags": []
   },
   "outputs": [
    {
     "name": "stdout",
     "output_type": "stream",
     "text": [
      "6090 6090 1523 1523\n"
     ]
    }
   ],
   "source": [
    "print(len(x_train), len(y_train), len(x_val), len(y_val))"
   ]
  },
  {
   "cell_type": "code",
   "execution_count": 16,
   "id": "45865ead",
   "metadata": {
    "execution": {
     "iopub.execute_input": "2021-08-18T07:01:21.147073Z",
     "iopub.status.busy": "2021-08-18T07:01:21.146331Z",
     "iopub.status.idle": "2021-08-18T07:01:21.152476Z",
     "shell.execute_reply": "2021-08-18T07:01:21.152062Z",
     "shell.execute_reply.started": "2021-08-18T06:41:25.222653Z"
    },
    "papermill": {
     "duration": 0.036954,
     "end_time": "2021-08-18T07:01:21.152583",
     "exception": false,
     "start_time": "2021-08-18T07:01:21.115629",
     "status": "completed"
    },
    "tags": []
   },
   "outputs": [
    {
     "data": {
      "text/plain": [
       "0    4342\n",
       "1    3271\n",
       "Name: target, dtype: int64"
      ]
     },
     "execution_count": 16,
     "metadata": {},
     "output_type": "execute_result"
    }
   ],
   "source": [
    "train[\"target\"].value_counts()"
   ]
  },
  {
   "cell_type": "markdown",
   "id": "ba3a6b51",
   "metadata": {
    "papermill": {
     "duration": 0.027564,
     "end_time": "2021-08-18T07:01:21.207941",
     "exception": false,
     "start_time": "2021-08-18T07:01:21.180377",
     "status": "completed"
    },
    "tags": []
   },
   "source": [
    "## Model Development"
   ]
  },
  {
   "cell_type": "code",
   "execution_count": 17,
   "id": "7729ff7b",
   "metadata": {
    "execution": {
     "iopub.execute_input": "2021-08-18T07:01:21.268702Z",
     "iopub.status.busy": "2021-08-18T07:01:21.268142Z",
     "iopub.status.idle": "2021-08-18T07:01:36.343979Z",
     "shell.execute_reply": "2021-08-18T07:01:36.344474Z",
     "shell.execute_reply.started": "2021-08-18T06:59:13.904619Z"
    },
    "papermill": {
     "duration": 15.108903,
     "end_time": "2021-08-18T07:01:36.344632",
     "exception": false,
     "start_time": "2021-08-18T07:01:21.235729",
     "status": "completed"
    },
    "tags": []
   },
   "outputs": [],
   "source": [
    "tf.keras.backend.clear_session()\n",
    "keras_layer = hub.KerasLayer(\"https://tfhub.dev/google/nnlm-en-dim128/2\")\n",
    "tf.keras.backend.clear_session()\n",
    "model = tf.keras.Sequential([\n",
    "    keras_layer,\n",
    "    tf.keras.layers.Dense(32, activation=\"relu\"),\n",
    "    tf.keras.layers.Dropout(0.3),\n",
    "    tf.keras.layers.Dense(2, activation='softmax')\n",
    "])"
   ]
  },
  {
   "cell_type": "code",
   "execution_count": 18,
   "id": "d8888d56",
   "metadata": {
    "execution": {
     "iopub.execute_input": "2021-08-18T07:01:36.427211Z",
     "iopub.status.busy": "2021-08-18T07:01:36.418299Z",
     "iopub.status.idle": "2021-08-18T07:01:36.448233Z",
     "shell.execute_reply": "2021-08-18T07:01:36.447799Z",
     "shell.execute_reply.started": "2021-08-18T06:59:17.951456Z"
    },
    "papermill": {
     "duration": 0.075498,
     "end_time": "2021-08-18T07:01:36.448349",
     "exception": false,
     "start_time": "2021-08-18T07:01:36.372851",
     "status": "completed"
    },
    "tags": []
   },
   "outputs": [],
   "source": [
    "batch_size = 64\n",
    "train_dataset = tf.data.Dataset.from_tensor_slices((x_train, y_train)).shuffle(len(x_train)).batch(batch_size)\n",
    "val_dataset = tf.data.Dataset.from_tensor_slices((x_val, y_val)).batch(batch_size)"
   ]
  },
  {
   "cell_type": "code",
   "execution_count": 19,
   "id": "d5790fc2",
   "metadata": {
    "execution": {
     "iopub.execute_input": "2021-08-18T07:01:36.516225Z",
     "iopub.status.busy": "2021-08-18T07:01:36.515605Z",
     "iopub.status.idle": "2021-08-18T07:01:56.772437Z",
     "shell.execute_reply": "2021-08-18T07:01:56.772816Z",
     "shell.execute_reply.started": "2021-08-18T06:59:20.159791Z"
    },
    "papermill": {
     "duration": 20.296909,
     "end_time": "2021-08-18T07:01:56.772963",
     "exception": false,
     "start_time": "2021-08-18T07:01:36.476054",
     "status": "completed"
    },
    "tags": []
   },
   "outputs": [
    {
     "name": "stdout",
     "output_type": "stream",
     "text": [
      "Epoch: 1 / 20\n",
      "2.35s Loss: 0.62 Accuracy: 0.66 Validation Loss: 0.56 Validation Accuracy: 0.75\n",
      "Epoch: 2 / 20\n",
      "0.96s Loss: 0.54 Accuracy: 0.74 Validation Loss: 0.51 Validation Accuracy: 0.77\n",
      "Epoch: 3 / 20\n",
      "1.10s Loss: 0.51 Accuracy: 0.76 Validation Loss: 0.49 Validation Accuracy: 0.77\n",
      "Epoch: 4 / 20\n",
      "0.91s Loss: 0.50 Accuracy: 0.76 Validation Loss: 0.49 Validation Accuracy: 0.77\n",
      "Epoch: 5 / 20\n",
      "0.91s Loss: 0.49 Accuracy: 0.77 Validation Loss: 0.49 Validation Accuracy: 0.77\n",
      "Epoch: 6 / 20\n",
      "0.91s Loss: 0.49 Accuracy: 0.77 Validation Loss: 0.48 Validation Accuracy: 0.76\n",
      "Epoch: 7 / 20\n",
      "0.90s Loss: 0.48 Accuracy: 0.77 Validation Loss: 0.48 Validation Accuracy: 0.78\n",
      "Epoch: 8 / 20\n",
      "0.90s Loss: 0.48 Accuracy: 0.77 Validation Loss: 0.48 Validation Accuracy: 0.77\n",
      "Epoch: 9 / 20\n",
      "0.91s Loss: 0.48 Accuracy: 0.78 Validation Loss: 0.48 Validation Accuracy: 0.77\n",
      "Epoch: 10 / 20\n",
      "0.89s Loss: 0.47 Accuracy: 0.78 Validation Loss: 0.48 Validation Accuracy: 0.77\n",
      "Epoch: 11 / 20\n",
      "0.91s Loss: 0.47 Accuracy: 0.78 Validation Loss: 0.48 Validation Accuracy: 0.77\n",
      "Epoch: 12 / 20\n",
      "0.89s Loss: 0.47 Accuracy: 0.78 Validation Loss: 0.48 Validation Accuracy: 0.77\n",
      "Epoch: 13 / 20\n",
      "0.91s Loss: 0.46 Accuracy: 0.78 Validation Loss: 0.48 Validation Accuracy: 0.78\n",
      "Epoch: 14 / 20\n",
      "0.94s Loss: 0.46 Accuracy: 0.78 Validation Loss: 0.48 Validation Accuracy: 0.78\n",
      "Epoch: 15 / 20\n",
      "1.05s Loss: 0.46 Accuracy: 0.79 Validation Loss: 0.48 Validation Accuracy: 0.78\n",
      "Epoch: 16 / 20\n",
      "0.90s Loss: 0.45 Accuracy: 0.79 Validation Loss: 0.48 Validation Accuracy: 0.77\n",
      "Epoch: 17 / 20\n",
      "0.91s Loss: 0.45 Accuracy: 0.79 Validation Loss: 0.48 Validation Accuracy: 0.78\n",
      "Epoch: 18 / 20\n",
      "0.89s Loss: 0.44 Accuracy: 0.79 Validation Loss: 0.48 Validation Accuracy: 0.78\n",
      "Epoch: 19 / 20\n",
      "0.99s Loss: 0.44 Accuracy: 0.79 Validation Loss: 0.48 Validation Accuracy: 0.78\n",
      "Epoch: 20 / 20\n",
      "1.13s Loss: 0.44 Accuracy: 0.80 Validation Loss: 0.48 Validation Accuracy: 0.77\n"
     ]
    }
   ],
   "source": [
    "loss_object = tf.keras.losses.SparseCategoricalCrossentropy()\n",
    "optimizer = tf.keras.optimizers.Adam()\n",
    "history = {\n",
    "    \"train_loss\": [],\n",
    "    \"valid_loss\": [],\n",
    "    \"train_accuracy\": [],\n",
    "    \"valid_accuracy\": []\n",
    "}\n",
    "num_epochs = 20\n",
    "for epoch in range(num_epochs):\n",
    "    begin_time = time.time()\n",
    "    train_losses = []\n",
    "    valid_losses = []\n",
    "    correct_count = 0\n",
    "    total_count = 0\n",
    "    total_train_count = 0\n",
    "    for (x_batch, y_true) in train_dataset:\n",
    "        with tf.GradientTape() as tape:\n",
    "            y_pred = model(x_batch)\n",
    "            predict_labels = tf.argmax(y_pred, axis=-1)\n",
    "            loss_value = loss_object(y_true, y_pred)\n",
    "        gradients = tape.gradient(loss_value, model.trainable_weights)\n",
    "        optimizer.apply_gradients(zip(gradients, model.trainable_weights))\n",
    "        train_losses.append(loss_value)\n",
    "        correct_count += tf.reduce_sum(tf.cast(y_true == predict_labels, tf.int64))\n",
    "        total_train_count += y_true.shape[0]\n",
    "    train_loss = tf.reduce_mean(train_losses)\n",
    "    train_accuracy = correct_count / total_train_count\n",
    "    history[\"train_loss\"].append(train_loss)\n",
    "    history[\"train_accuracy\"].append(train_accuracy)\n",
    "    correct_count = 0\n",
    "    total_count = 0\n",
    "    total_valid_count = 0\n",
    "    for (x_batch, y_true) in val_dataset:\n",
    "        y_pred = model(x_batch)\n",
    "        predict_labels = tf.argmax(y_pred, axis=-1)\n",
    "        loss_value = loss_object(y_true, y_pred)\n",
    "        valid_losses.append(loss_value)\n",
    "        correct_count += tf.reduce_sum(tf.cast(y_true == predict_labels, tf.int64))\n",
    "        total_valid_count += y_true.shape[0]\n",
    "    valid_loss = tf.reduce_mean(valid_losses)\n",
    "    valid_accuracy = correct_count / total_valid_count\n",
    "    history[\"valid_loss\"].append(valid_loss)\n",
    "    history[\"valid_accuracy\"].append(valid_accuracy)\n",
    "    elapsed_time = time.time() -  begin_time\n",
    "    print(\"Epoch: %d / %d\"%(epoch + 1, num_epochs))\n",
    "    print(\"%.2fs Loss: %.2f Accuracy: %.2f Validation Loss: %.2f Validation Accuracy: %.2f\"%(elapsed_time, train_loss, train_accuracy, valid_loss, valid_accuracy))\n",
    "for key in history:\n",
    "    history[key] = list(np.array(history[key]))"
   ]
  },
  {
   "cell_type": "markdown",
   "id": "fa557848",
   "metadata": {
    "papermill": {
     "duration": 0.032329,
     "end_time": "2021-08-18T07:01:56.838806",
     "exception": false,
     "start_time": "2021-08-18T07:01:56.806477",
     "status": "completed"
    },
    "tags": []
   },
   "source": [
    "## Model Evaluation"
   ]
  },
  {
   "cell_type": "markdown",
   "id": "f01c9578",
   "metadata": {
    "papermill": {
     "duration": 0.032736,
     "end_time": "2021-08-18T07:01:56.904036",
     "exception": false,
     "start_time": "2021-08-18T07:01:56.871300",
     "status": "completed"
    },
    "tags": []
   },
   "source": [
    "**Loss and Accuracy over time**"
   ]
  },
  {
   "cell_type": "code",
   "execution_count": 20,
   "id": "7a8c316b",
   "metadata": {
    "execution": {
     "iopub.execute_input": "2021-08-18T07:01:56.974258Z",
     "iopub.status.busy": "2021-08-18T07:01:56.973595Z",
     "iopub.status.idle": "2021-08-18T07:01:57.204064Z",
     "shell.execute_reply": "2021-08-18T07:01:57.204488Z",
     "shell.execute_reply.started": "2021-08-18T06:59:46.410372Z"
    },
    "papermill": {
     "duration": 0.267837,
     "end_time": "2021-08-18T07:01:57.204630",
     "exception": false,
     "start_time": "2021-08-18T07:01:56.936793",
     "status": "completed"
    },
    "tags": []
   },
   "outputs": [
    {
     "data": {
      "text/plain": [
       "<AxesSubplot:>"
      ]
     },
     "execution_count": 20,
     "metadata": {},
     "output_type": "execute_result"
    },
    {
     "data": {
      "image/png": "[encoded data removed]",
      "text/plain": [
       "<Figure size 432x288 with 1 Axes>"
      ]
     },
     "metadata": {
      "needs_background": "light"
     },
     "output_type": "display_data"
    }
   ],
   "source": [
    "pd.DataFrame(history).plot(kind=\"line\")"
   ]
  },
  {
   "cell_type": "markdown",
   "id": "4291fb66",
   "metadata": {
    "execution": {
     "iopub.execute_input": "2021-07-31T09:19:01.312896Z",
     "iopub.status.busy": "2021-07-31T09:19:01.312429Z",
     "iopub.status.idle": "2021-07-31T09:19:01.31944Z",
     "shell.execute_reply": "2021-07-31T09:19:01.317762Z",
     "shell.execute_reply.started": "2021-07-31T09:19:01.312867Z"
    },
    "papermill": {
     "duration": 0.034045,
     "end_time": "2021-08-18T07:01:57.272907",
     "exception": false,
     "start_time": "2021-08-18T07:01:57.238862",
     "status": "completed"
    },
    "tags": []
   },
   "source": [
    "**Calcuate y_val_pred**"
   ]
  },
  {
   "cell_type": "code",
   "execution_count": 21,
   "id": "53f9bd5c",
   "metadata": {
    "execution": {
     "iopub.execute_input": "2021-08-18T07:01:57.349682Z",
     "iopub.status.busy": "2021-08-18T07:01:57.348953Z",
     "iopub.status.idle": "2021-08-18T07:01:57.557095Z",
     "shell.execute_reply": "2021-08-18T07:01:57.556639Z",
     "shell.execute_reply.started": "2021-08-18T06:59:49.975425Z"
    },
    "papermill": {
     "duration": 0.250587,
     "end_time": "2021-08-18T07:01:57.557261",
     "exception": false,
     "start_time": "2021-08-18T07:01:57.306674",
     "status": "completed"
    },
    "tags": []
   },
   "outputs": [],
   "source": [
    "y_val_pred = np.argmax(np.array(model.predict(x_val), dtype=int), axis=-1)"
   ]
  },
  {
   "cell_type": "markdown",
   "id": "a121b360",
   "metadata": {
    "papermill": {
     "duration": 0.033604,
     "end_time": "2021-08-18T07:01:57.625402",
     "exception": false,
     "start_time": "2021-08-18T07:01:57.591798",
     "status": "completed"
    },
    "tags": []
   },
   "source": [
    "**Confusion Matrix**"
   ]
  },
  {
   "cell_type": "code",
   "execution_count": 22,
   "id": "e6892dce",
   "metadata": {
    "execution": {
     "iopub.execute_input": "2021-08-18T07:01:57.698152Z",
     "iopub.status.busy": "2021-08-18T07:01:57.696894Z",
     "iopub.status.idle": "2021-08-18T07:01:57.699683Z",
     "shell.execute_reply": "2021-08-18T07:01:57.699286Z",
     "shell.execute_reply.started": "2021-08-18T06:59:52.975151Z"
    },
    "papermill": {
     "duration": 0.040605,
     "end_time": "2021-08-18T07:01:57.699790",
     "exception": false,
     "start_time": "2021-08-18T07:01:57.659185",
     "status": "completed"
    },
    "tags": []
   },
   "outputs": [],
   "source": [
    "from sklearn.metrics import confusion_matrix"
   ]
  },
  {
   "cell_type": "code",
   "execution_count": 23,
   "id": "5a49f521",
   "metadata": {
    "execution": {
     "iopub.execute_input": "2021-08-18T07:01:57.772287Z",
     "iopub.status.busy": "2021-08-18T07:01:57.771540Z",
     "iopub.status.idle": "2021-08-18T07:01:57.777226Z",
     "shell.execute_reply": "2021-08-18T07:01:57.776806Z",
     "shell.execute_reply.started": "2021-08-18T06:59:54.657143Z"
    },
    "papermill": {
     "duration": 0.04362,
     "end_time": "2021-08-18T07:01:57.777341",
     "exception": false,
     "start_time": "2021-08-18T07:01:57.733721",
     "status": "completed"
    },
    "tags": []
   },
   "outputs": [],
   "source": [
    "cm = confusion_matrix(y_val, y_val_pred)"
   ]
  },
  {
   "cell_type": "code",
   "execution_count": 24,
   "id": "2c079f85",
   "metadata": {
    "execution": {
     "iopub.execute_input": "2021-08-18T07:01:57.865983Z",
     "iopub.status.busy": "2021-08-18T07:01:57.865474Z",
     "iopub.status.idle": "2021-08-18T07:01:58.080378Z",
     "shell.execute_reply": "2021-08-18T07:01:58.079940Z",
     "shell.execute_reply.started": "2021-08-18T07:00:09.589682Z"
    },
    "papermill": {
     "duration": 0.26948,
     "end_time": "2021-08-18T07:01:58.080500",
     "exception": false,
     "start_time": "2021-08-18T07:01:57.811020",
     "status": "completed"
    },
    "tags": []
   },
   "outputs": [
    {
     "data": {
      "text/plain": [
       "<AxesSubplot:>"
      ]
     },
     "execution_count": 24,
     "metadata": {},
     "output_type": "execute_result"
    },
    {
     "data": {
      "image/png": "[encoded data removed]",
      "text/plain": [
       "<Figure size 432x288 with 2 Axes>"
      ]
     },
     "metadata": {
      "needs_background": "light"
     },
     "output_type": "display_data"
    }
   ],
   "source": [
    "sns.heatmap(cm, annot=True)"
   ]
  },
  {
   "cell_type": "markdown",
   "id": "e4c353d0",
   "metadata": {
    "papermill": {
     "duration": 0.034512,
     "end_time": "2021-08-18T07:01:58.149732",
     "exception": false,
     "start_time": "2021-08-18T07:01:58.115220",
     "status": "completed"
    },
    "tags": []
   },
   "source": [
    "## Submission"
   ]
  },
  {
   "cell_type": "code",
   "execution_count": 25,
   "id": "70fad9b9",
   "metadata": {
    "execution": {
     "iopub.execute_input": "2021-08-18T07:01:58.234945Z",
     "iopub.status.busy": "2021-08-18T07:01:58.234089Z",
     "iopub.status.idle": "2021-08-18T07:01:58.424686Z",
     "shell.execute_reply": "2021-08-18T07:01:58.424195Z",
     "shell.execute_reply.started": "2021-08-18T07:00:40.075887Z"
    },
    "papermill": {
     "duration": 0.240204,
     "end_time": "2021-08-18T07:01:58.424825",
     "exception": false,
     "start_time": "2021-08-18T07:01:58.184621",
     "status": "completed"
    },
    "tags": []
   },
   "outputs": [],
   "source": [
    "y_test = np.argmax(model.predict(x_test), axis=-1)"
   ]
  },
  {
   "cell_type": "code",
   "execution_count": 26,
   "id": "f7ca404b",
   "metadata": {
    "execution": {
     "iopub.execute_input": "2021-08-18T07:01:58.499133Z",
     "iopub.status.busy": "2021-08-18T07:01:58.498637Z",
     "iopub.status.idle": "2021-08-18T07:01:58.502512Z",
     "shell.execute_reply": "2021-08-18T07:01:58.502070Z",
     "shell.execute_reply.started": "2021-08-18T07:00:42.496185Z"
    },
    "papermill": {
     "duration": 0.042888,
     "end_time": "2021-08-18T07:01:58.502616",
     "exception": false,
     "start_time": "2021-08-18T07:01:58.459728",
     "status": "completed"
    },
    "tags": []
   },
   "outputs": [],
   "source": [
    "submission = pd.DataFrame({\"id\": test[\"id\"], \"target\": y_test})"
   ]
  },
  {
   "cell_type": "code",
   "execution_count": 27,
   "id": "2b3409b8",
   "metadata": {
    "execution": {
     "iopub.execute_input": "2021-08-18T07:01:58.578996Z",
     "iopub.status.busy": "2021-08-18T07:01:58.578155Z",
     "iopub.status.idle": "2021-08-18T07:01:58.582246Z",
     "shell.execute_reply": "2021-08-18T07:01:58.582610Z",
     "shell.execute_reply.started": "2021-08-18T07:00:44.940203Z"
    },
    "papermill": {
     "duration": 0.045606,
     "end_time": "2021-08-18T07:01:58.582744",
     "exception": false,
     "start_time": "2021-08-18T07:01:58.537138",
     "status": "completed"
    },
    "tags": []
   },
   "outputs": [
    {
     "data": {
      "text/html": [
       "<div>\n",
       "<style scoped>\n",
       "    .dataframe tbody tr th:only-of-type {\n",
       "        vertical-align: middle;\n",
       "    }\n",
       "\n",
       "    .dataframe tbody tr th {\n",
       "        vertical-align: top;\n",
       "    }\n",
       "\n",
       "    .dataframe thead th {\n",
       "        text-align: right;\n",
       "    }\n",
       "</style>\n",
       "<table border=\"1\" class=\"dataframe\">\n",
       "  <thead>\n",
       "    <tr style=\"text-align: right;\">\n",
       "      <th></th>\n",
       "      <th>id</th>\n",
       "      <th>target</th>\n",
       "    </tr>\n",
       "  </thead>\n",
       "  <tbody>\n",
       "    <tr>\n",
       "      <th>0</th>\n",
       "      <td>0</td>\n",
       "      <td>1</td>\n",
       "    </tr>\n",
       "    <tr>\n",
       "      <th>1</th>\n",
       "      <td>2</td>\n",
       "      <td>0</td>\n",
       "    </tr>\n",
       "    <tr>\n",
       "      <th>2</th>\n",
       "      <td>3</td>\n",
       "      <td>1</td>\n",
       "    </tr>\n",
       "    <tr>\n",
       "      <th>3</th>\n",
       "      <td>9</td>\n",
       "      <td>0</td>\n",
       "    </tr>\n",
       "    <tr>\n",
       "      <th>4</th>\n",
       "      <td>11</td>\n",
       "      <td>1</td>\n",
       "    </tr>\n",
       "  </tbody>\n",
       "</table>\n",
       "</div>"
      ],
      "text/plain": [
       "   id  target\n",
       "0   0       1\n",
       "1   2       0\n",
       "2   3       1\n",
       "3   9       0\n",
       "4  11       1"
      ]
     },
     "execution_count": 27,
     "metadata": {},
     "output_type": "execute_result"
    }
   ],
   "source": [
    "submission.head()"
   ]
  },
  {
   "cell_type": "code",
   "execution_count": 28,
   "id": "6d52cc13",
   "metadata": {
    "execution": {
     "iopub.execute_input": "2021-08-18T07:01:58.656625Z",
     "iopub.status.busy": "2021-08-18T07:01:58.656049Z",
     "iopub.status.idle": "2021-08-18T07:01:58.667799Z",
     "shell.execute_reply": "2021-08-18T07:01:58.667351Z",
     "shell.execute_reply.started": "2021-08-18T07:00:50.530526Z"
    },
    "papermill": {
     "duration": 0.049989,
     "end_time": "2021-08-18T07:01:58.667907",
     "exception": false,
     "start_time": "2021-08-18T07:01:58.617918",
     "status": "completed"
    },
    "tags": []
   },
   "outputs": [],
   "source": [
    "submission.to_csv(\"submission.csv\", index=False)"
   ]
  },
  {
   "cell_type": "markdown",
   "id": "cbc9e3ad",
   "metadata": {
    "papermill": {
     "duration": 0.034995,
     "end_time": "2021-08-18T07:01:58.737947",
     "exception": false,
     "start_time": "2021-08-18T07:01:58.702952",
     "status": "completed"
    },
    "tags": []
   },
   "source": [
    "## Conclusion\n",
    "Now the Model can achive 78% accuracy both in validation dataset and test dataset which shown in Kaggle leader board. There's still a lot to improve.\n"
   ]
  }
 ],
 "metadata": {
  "kernelspec": {
   "display_name": "Python 3 (ipykernel)",
   "language": "python",
   "name": "python3"
  },
  "language_info": {
   "codemirror_mode": {
    "name": "ipython",
    "version": 3
   },
   "file_extension": ".py",
   "mimetype": "text/x-python",
   "name": "python",
   "nbconvert_exporter": "python",
   "pygments_lexer": "ipython3",
   "version": "3.9.6"
  },
  "papermill": {
   "default_parameters": {},
   "duration": 53.713081,
   "end_time": "2021-08-18T07:02:00.410051",
   "environment_variables": {},
   "exception": null,
   "input_path": "__notebook__.ipynb",
   "output_path": "__notebook__.ipynb",
   "parameters": {},
   "start_time": "2021-08-18T07:01:06.696970",
   "version": "2.3.3"
  }
 },
 "nbformat": 4,
 "nbformat_minor": 5
}
